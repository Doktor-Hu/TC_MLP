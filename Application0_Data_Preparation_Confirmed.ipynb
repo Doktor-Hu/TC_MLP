{
 "cells": [
  {
   "cell_type": "markdown",
   "metadata": {},
   "source": [
    "# Light model V2 (train 14 + 18 val 17)"
   ]
  },
  {
   "cell_type": "code",
   "execution_count": 1,
   "metadata": {
    "ExecuteTime": {
     "end_time": "2021-02-20T00:03:36.735516Z",
     "start_time": "2021-02-20T00:03:34.261633Z"
    }
   },
   "outputs": [],
   "source": [
    "import numpy as np\n",
    "import tensorflow as tf\n",
    "import random as python_random\n",
    "import os\n",
    "import datetime\n",
    "\n",
    "seed_value=1\n",
    "\n",
    "os.environ['PYTHONHASHSEED']=str(seed_value)\n",
    "np.random.seed(seed_value)\n",
    "python_random.seed(seed_value)\n",
    "tf.random.set_seed(seed_value)\n",
    "\n",
    "import sys\n",
    "sys.path.append('D:/Paper_1/Importance/Olden_for_Keras')\n",
    "from Olden_Keras import Olden\n",
    "sys.path.append('d:/Paper_1/Syntax/afunc')\n",
    "from plotaccdl import plot_history, plot_acc, plot_acc_no_colorbar, error_plot, train_preparation\n",
    "from MLP_ARC import *\n",
    "from MLP_acc import acc_report\n",
    "\n",
    "import keras\n",
    "from keras import regularizers\n",
    "from keras import backend as K\n",
    "from keras.models import load_model, Model\n",
    "from keras.layers import Dropout, BatchNormalization, Activation, Input, Dense\n",
    "\n",
    "from sklearn.metrics import mean_squared_error\n",
    "from math import sqrt\n",
    "import scipy.stats as stats\n",
    "import glob\n",
    "\n",
    "\n",
    "from matplotlib import pyplot as plt\n",
    "import pandas as pd"
   ]
  },
  {
   "cell_type": "markdown",
   "metadata": {},
   "source": [
    "## 1. Data Generation"
   ]
  },
  {
   "cell_type": "code",
   "execution_count": 2,
   "metadata": {
    "ExecuteTime": {
     "end_time": "2021-02-20T00:04:06.661951Z",
     "start_time": "2021-02-20T00:03:36.735516Z"
    }
   },
   "outputs": [
    {
     "name": "stderr",
     "output_type": "stream",
     "text": [
      "D:\\Software\\anaconda3\\lib\\site-packages\\ipykernel_launcher.py:42: SettingWithCopyWarning: \n",
      "A value is trying to be set on a copy of a slice from a DataFrame.\n",
      "Try using .loc[row_indexer,col_indexer] = value instead\n",
      "\n",
      "See the caveats in the documentation: https://pandas.pydata.org/pandas-docs/stable/user_guide/indexing.html#returning-a-view-versus-a-copy\n",
      "D:\\Software\\anaconda3\\lib\\site-packages\\ipykernel_launcher.py:44: SettingWithCopyWarning: \n",
      "A value is trying to be set on a copy of a slice from a DataFrame.\n",
      "Try using .loc[row_indexer,col_indexer] = value instead\n",
      "\n",
      "See the caveats in the documentation: https://pandas.pydata.org/pandas-docs/stable/user_guide/indexing.html#returning-a-view-versus-a-copy\n",
      "D:\\Software\\anaconda3\\lib\\site-packages\\ipykernel_launcher.py:50: SettingWithCopyWarning: \n",
      "A value is trying to be set on a copy of a slice from a DataFrame.\n",
      "Try using .loc[row_indexer,col_indexer] = value instead\n",
      "\n",
      "See the caveats in the documentation: https://pandas.pydata.org/pandas-docs/stable/user_guide/indexing.html#returning-a-view-versus-a-copy\n"
     ]
    }
   ],
   "source": [
    "df=pd.read_csv('D:/Paper_1/Data/allaws_dy_nnmatrix_dt0_snow_v2.csv')\n",
    "\n",
    "# Date Correction\n",
    "year_corr=df.iloc[(df.loc[df['dayofyear']==1].index+1),]['year']\n",
    "df.iloc[(df.loc[df['dayofyear']==1].index),0]=list(year_corr)\n",
    "\n",
    "year_01=df.iloc[(df.loc[df['dayofyear']==1].index),]['year']\n",
    "year_02=df.iloc[(df.loc[df['dayofyear']==1].index+1),]['year']\n",
    "\n",
    "# Calculating dates\n",
    "df_dates=[]\n",
    "\n",
    "for df_row_i in range(df.shape[0]):\n",
    "    year = df.iloc[df_row_i,]['year']\n",
    "    days = df.iloc[df_row_i,]['dayofyear']\n",
    "    date_temp = datetime.datetime(int(year), 1, 1) + datetime.timedelta(int(days) - 1)\n",
    "    \n",
    "    df_dates.append(date_temp)\n",
    "    \n",
    "df['date'] = pd.Series(df_dates, index=df.index)\n",
    "\n",
    "# Calculating lags\n",
    "#Find switchs\n",
    "switch_flag=np.asarray(list(df['year'])[1:])-np.asarray(list(df['year'])[0:-1])\n",
    "switch=np.where(switch_flag<(-1)) # use switch[0] to have the array\n",
    "\n",
    "begin=np.append(0,(switch[0]+1))\n",
    "begin=np.append(begin, df.shape[0])\n",
    "\n",
    "melt_l1=np.array([])\n",
    "\n",
    "for i in range(len(begin)-1):\n",
    "    melt_lag_1=np.append(-99,df.iloc[begin[i]:(begin[i+1]-1),]['melt_0'])\n",
    "    melt_l1=np.append(melt_l1,melt_lag_1)\n",
    "    \n",
    "df['melt_l1'] = pd.Series(melt_l1, index=df.index)\n",
    "\n",
    "# Wash\n",
    "df_wash=df.loc[(df['albedo_0']!=-99)&(df['melt_0']!=-99)&(df['melt_l1']!=-99)]\n",
    "\n",
    "# Temporal melt change\n",
    "df_wash['melt_TC']=df_wash['melt_0']-df_wash['melt_l1']\n",
    "# Albedo <= 0.95\n",
    "df_wash['Albedo_A']=df_wash[\"albedo_0\"]-df_wash[\"delta_albedo\"]\n",
    "\n",
    "Unreal=np.where(df_wash['Albedo_A']>0.95)[0]\n",
    "#Unreal_Alb=list(np.append(Unreal,(Unreal+1)))\n",
    "\n",
    "# Correcting delta_albedo\n",
    "df_wash['delta_albedo']=df_wash['delta_albedo']*(-1)"
   ]
  },
  {
   "cell_type": "code",
   "execution_count": 3,
   "metadata": {
    "ExecuteTime": {
     "end_time": "2021-02-20T00:04:06.807484Z",
     "start_time": "2021-02-20T00:04:06.661951Z"
    }
   },
   "outputs": [
    {
     "name": "stdout",
     "output_type": "stream",
     "text": [
      "(197750, 14)\n",
      "(197680, 16)\n",
      "(180782, 16)\n",
      "(16898,)\n"
     ]
    }
   ],
   "source": [
    "df_wash2=df_wash.drop(df_wash.index[list(set(Unreal))],axis=0,inplace=False)\n",
    "df_wash2.describe()\n",
    "\n",
    "print(df.shape)\n",
    "print(df_wash.shape)\n",
    "print(df_wash2.shape)\n",
    "print(Unreal.shape)\n",
    "#print(len(Unreal_Alb))\n",
    "#print(len(set(Unreal_Alb)))\n",
    "#print(df_wash.shape[0]-len(Unreal_Alb))\n",
    "#print(df_wash.shape[0]-len(set(Unreal_Alb)))"
   ]
  },
  {
   "cell_type": "code",
   "execution_count": 4,
   "metadata": {
    "ExecuteTime": {
     "end_time": "2021-02-20T00:04:10.013394Z",
     "start_time": "2021-02-20T00:04:06.807484Z"
    }
   },
   "outputs": [
    {
     "name": "stdout",
     "output_type": "stream",
     "text": [
      "(167639, 16)\n",
      "(15162, 16)\n"
     ]
    }
   ],
   "source": [
    "# Train/Test separation\n",
    "train=df_wash2.loc[(df_wash2['AWS_ID']==1)|(df_wash2['AWS_ID']==2)|(df_wash2['AWS_ID']==4)]\n",
    "test=df_wash.loc[(df_wash['AWS_ID']==3)]\n",
    "\n",
    "print(train.shape)\n",
    "print(test.shape)\n",
    "\n",
    "train.to_csv('D:/Paper_1/Data/allaws_dy_nnmatrix_dT0_snow_v2_train_NM_14_17.csv',index_label=False)\n",
    "test.to_csv('D:/Paper_1/Data/allaws_dy_nnmatrix_dT0_snow_v2_test_NM_18.csv',index_label=False)"
   ]
  },
  {
   "cell_type": "code",
   "execution_count": 5,
   "metadata": {
    "ExecuteTime": {
     "end_time": "2021-02-20T00:04:11.273223Z",
     "start_time": "2021-02-20T00:04:10.013394Z"
    }
   },
   "outputs": [
    {
     "name": "stdout",
     "output_type": "stream",
     "text": [
      "(55381, 16)\n",
      "(15162, 16)\n"
     ]
    }
   ],
   "source": [
    "# Train/Test separation\n",
    "train=df_wash2.loc[(df_wash2['AWS_ID']==1)|(df_wash2['AWS_ID']==2)]\n",
    "test=df_wash.loc[(df_wash['AWS_ID']==3)]\n",
    "\n",
    "print(train.shape)\n",
    "print(test.shape)\n",
    "\n",
    "train.to_csv('D:/Paper_1/Data/allaws_dy_nnmatrix_dT0_snow_v2_train_no_NM_14_17.csv',index_label=False)\n",
    "test.to_csv('D:/Paper_1/Data/allaws_dy_nnmatrix_dT0_snow_v2_test_no_NM_18.csv',index_label=False)"
   ]
  },
  {
   "cell_type": "code",
   "execution_count": 6,
   "metadata": {
    "ExecuteTime": {
     "end_time": "2021-02-20T00:04:12.533444Z",
     "start_time": "2021-02-20T00:04:11.275247Z"
    }
   },
   "outputs": [
    {
     "name": "stdout",
     "output_type": "stream",
     "text": [
      "(50239, 16)\n",
      "(19992, 16)\n"
     ]
    }
   ],
   "source": [
    "# Train/Test separation\n",
    "train=df_wash2.loc[(df_wash2['AWS_ID']==1)|(df_wash2['AWS_ID']==3)]\n",
    "test=df_wash.loc[(df_wash['AWS_ID']==2)]\n",
    "\n",
    "print(train.shape)\n",
    "print(test.shape)\n",
    "\n",
    "train.to_csv('D:/Paper_1/Data/allaws_dy_nnmatrix_dT0_snow_v2_train_no_NM_14_18.csv',index_label=False)\n",
    "test.to_csv('D:/Paper_1/Data/allaws_dy_nnmatrix_dT0_snow_v2_test_no_NM_17.csv',index_label=False)"
   ]
  },
  {
   "cell_type": "code",
   "execution_count": 7,
   "metadata": {
    "ExecuteTime": {
     "end_time": "2021-02-20T00:04:13.021331Z",
     "start_time": "2021-02-20T00:04:12.535451Z"
    }
   },
   "outputs": [
    {
     "name": "stdout",
     "output_type": "stream",
     "text": [
      "(15162, 16)\n",
      "(15162, 16)\n",
      "(167639, 16)\n",
      "(167639, 16)\n"
     ]
    }
   ],
   "source": [
    "train_ori1=pd.read_csv('D:/Paper_1/Data/allaws_dy_nnmatrix_dt0_snow_v2_train_alb_cor.csv')\n",
    "test1=pd.read_csv('D:/Paper_1/Data/allaws_dy_nnmatrix_dt0_snow_v2_test_full.csv')\n",
    "\n",
    "train_ori2=pd.read_csv('D:/Paper_1/Data/allaws_dy_nnmatrix_dT0_snow_v2_train_NM_14_17.csv')\n",
    "test2=pd.read_csv('D:/Paper_1/Data/allaws_dy_nnmatrix_dT0_snow_v2_test_NM_18.csv')\n",
    "\n",
    "print(test1.shape)\n",
    "print(test2.shape)\n",
    "print(train_ori1.shape)\n",
    "print(train_ori2.shape)"
   ]
  },
  {
   "cell_type": "code",
   "execution_count": 8,
   "metadata": {
    "ExecuteTime": {
     "end_time": "2021-02-20T00:04:13.025459Z",
     "start_time": "2021-02-20T00:04:13.021331Z"
    }
   },
   "outputs": [],
   "source": [
    "# pd.concat([train_ori1,train_ori2]).drop_duplicates(keep=False)\n",
    "# pd.concat([test1,test2]).drop_duplicates(keep=False)"
   ]
  },
  {
   "cell_type": "code",
   "execution_count": 9,
   "metadata": {
    "ExecuteTime": {
     "end_time": "2021-02-20T00:04:13.302239Z",
     "start_time": "2021-02-20T00:04:13.026457Z"
    }
   },
   "outputs": [
    {
     "data": {
      "text/html": [
       "<div>\n",
       "<style scoped>\n",
       "    .dataframe tbody tr th:only-of-type {\n",
       "        vertical-align: middle;\n",
       "    }\n",
       "\n",
       "    .dataframe tbody tr th {\n",
       "        vertical-align: top;\n",
       "    }\n",
       "\n",
       "    .dataframe thead th {\n",
       "        text-align: right;\n",
       "    }\n",
       "</style>\n",
       "<table border=\"1\" class=\"dataframe\">\n",
       "  <thead>\n",
       "    <tr style=\"text-align: right;\">\n",
       "      <th></th>\n",
       "      <th>year</th>\n",
       "      <th>dayofyear</th>\n",
       "      <th>albedo_0</th>\n",
       "      <th>temp2m</th>\n",
       "      <th>shortwave_in</th>\n",
       "      <th>longwave_in</th>\n",
       "      <th>melt_0</th>\n",
       "      <th>delta_melt</th>\n",
       "      <th>delta_temp2m</th>\n",
       "      <th>AWS_ID</th>\n",
       "      <th>meltflag</th>\n",
       "      <th>date</th>\n",
       "      <th>melt_l1</th>\n",
       "      <th>melt_TC</th>\n",
       "      <th>Albedo_A</th>\n",
       "    </tr>\n",
       "  </thead>\n",
       "  <tbody>\n",
       "  </tbody>\n",
       "</table>\n",
       "</div>"
      ],
      "text/plain": [
       "Empty DataFrame\n",
       "Columns: [year, dayofyear, albedo_0, temp2m, shortwave_in, longwave_in, melt_0, delta_melt, delta_temp2m, AWS_ID, meltflag, date, melt_l1, melt_TC, Albedo_A]\n",
       "Index: []"
      ]
     },
     "execution_count": 9,
     "metadata": {},
     "output_type": "execute_result"
    }
   ],
   "source": [
    "x=train_ori1.drop('delta_albedo',1)\n",
    "y=train_ori2.drop('delta_albedo',1)\n",
    "\n",
    "pd.concat([x,y]).drop_duplicates(keep=False)"
   ]
  },
  {
   "cell_type": "code",
   "execution_count": 14,
   "metadata": {
    "ExecuteTime": {
     "end_time": "2021-02-20T00:06:28.441500Z",
     "start_time": "2021-02-20T00:06:28.392614Z"
    }
   },
   "outputs": [
    {
     "data": {
      "text/html": [
       "<div>\n",
       "<style scoped>\n",
       "    .dataframe tbody tr th:only-of-type {\n",
       "        vertical-align: middle;\n",
       "    }\n",
       "\n",
       "    .dataframe tbody tr th {\n",
       "        vertical-align: top;\n",
       "    }\n",
       "\n",
       "    .dataframe thead th {\n",
       "        text-align: right;\n",
       "    }\n",
       "</style>\n",
       "<table border=\"1\" class=\"dataframe\">\n",
       "  <thead>\n",
       "    <tr style=\"text-align: right;\">\n",
       "      <th></th>\n",
       "      <th>year</th>\n",
       "      <th>dayofyear</th>\n",
       "      <th>albedo_0</th>\n",
       "      <th>temp2m</th>\n",
       "      <th>shortwave_in</th>\n",
       "      <th>longwave_in</th>\n",
       "      <th>melt_0</th>\n",
       "      <th>delta_melt</th>\n",
       "      <th>delta_temp2m</th>\n",
       "      <th>AWS_ID</th>\n",
       "      <th>meltflag</th>\n",
       "      <th>date</th>\n",
       "      <th>melt_l1</th>\n",
       "      <th>melt_TC</th>\n",
       "      <th>Albedo_A</th>\n",
       "    </tr>\n",
       "  </thead>\n",
       "  <tbody>\n",
       "  </tbody>\n",
       "</table>\n",
       "</div>"
      ],
      "text/plain": [
       "Empty DataFrame\n",
       "Columns: [year, dayofyear, albedo_0, temp2m, shortwave_in, longwave_in, melt_0, delta_melt, delta_temp2m, AWS_ID, meltflag, date, melt_l1, melt_TC, Albedo_A]\n",
       "Index: []"
      ]
     },
     "execution_count": 14,
     "metadata": {},
     "output_type": "execute_result"
    }
   ],
   "source": [
    "x=test1.drop('delta_albedo',1)\n",
    "y=test2.drop('delta_albedo',1)\n",
    "\n",
    "pd.concat([x,y]).drop_duplicates(keep=False)"
   ]
  },
  {
   "cell_type": "code",
   "execution_count": 15,
   "metadata": {
    "ExecuteTime": {
     "end_time": "2021-02-20T00:06:41.779273Z",
     "start_time": "2021-02-20T00:06:35.220617Z"
    },
    "scrolled": true
   },
   "outputs": [],
   "source": [
    "x=train_ori1.drop('delta_albedo',1)\n",
    "y=train_ori2.drop('delta_albedo',1)\n",
    "for i in range(x.shape[0]):\n",
    "    \n",
    "    if train_ori1.iloc[i, df.columns.get_loc('delta_albedo')] != -(train_ori2.iloc[i, df.columns.get_loc('delta_albedo')]):\n",
    "        #print(i)\n",
    "        print(train_ori1.iloc[i, df.columns.get_loc('delta_albedo')])\n",
    "        print(train_ori2.iloc[i, df.columns.get_loc('delta_albedo')])\n",
    "        print('='*20)\n",
    "\n",
    "x=test1.drop('delta_albedo',1)\n",
    "y=test2.drop('delta_albedo',1)\n",
    "for i in range(y.shape[0]):\n",
    "    \n",
    "    if test1.iloc[i, df.columns.get_loc('delta_albedo')] != -(test2.iloc[i, df.columns.get_loc('delta_albedo')]):\n",
    "        #print(i)\n",
    "        print(test1.iloc[i, df.columns.get_loc('delta_albedo')])\n",
    "        print(test2.iloc[i, df.columns.get_loc('delta_albedo')])\n",
    "        print('='*20)"
   ]
  },
  {
   "cell_type": "code",
   "execution_count": 16,
   "metadata": {
    "ExecuteTime": {
     "end_time": "2021-02-20T00:06:48.298565Z",
     "start_time": "2021-02-20T00:06:41.779273Z"
    }
   },
   "outputs": [],
   "source": [
    "x=train_ori1.drop('delta_albedo',1)\n",
    "y=train_ori2.drop('delta_albedo',1)\n",
    "for i in range(x.shape[0]):\n",
    "    \n",
    "    if train_ori1.iloc[i, df.columns.get_loc('shortwave_in')] != (train_ori2.iloc[i, df.columns.get_loc('shortwave_in')]):\n",
    "        #print(i)\n",
    "        print(train_ori1.iloc[i, df.columns.get_loc('shortwave_in')])\n",
    "        print(train_ori2.iloc[i, df.columns.get_loc('shortwave_in')])\n",
    "        print('='*20)\n",
    " \n",
    "x=test1.drop('delta_albedo',1)\n",
    "y=test2.drop('delta_albedo',1)\n",
    "for i in range(y.shape[0]):\n",
    "    \n",
    "    if test1.iloc[i, df.columns.get_loc('shortwave_in')] != (test2.iloc[i, df.columns.get_loc('shortwave_in')]):\n",
    "        #print(i)\n",
    "        print(test1.iloc[i, df.columns.get_loc('shortwave_in')])\n",
    "        print(test2.iloc[i, df.columns.get_loc('shortwave_in')])\n",
    "        print('='*20)"
   ]
  },
  {
   "cell_type": "code",
   "execution_count": 17,
   "metadata": {
    "ExecuteTime": {
     "end_time": "2021-02-20T00:06:54.983768Z",
     "start_time": "2021-02-20T00:06:48.298565Z"
    }
   },
   "outputs": [],
   "source": [
    "x=train_ori1.drop('delta_albedo',1)\n",
    "y=train_ori2.drop('delta_albedo',1)\n",
    "for i in range(x.shape[0]):\n",
    "    \n",
    "    if train_ori1.iloc[i, df.columns.get_loc('melt_0')] != (train_ori2.iloc[i, df.columns.get_loc('melt_0')]):\n",
    "        #print(i)\n",
    "        print(train_ori1.iloc[i, df.columns.get_loc('melt_0')])\n",
    "        print(train_ori2.iloc[i, df.columns.get_loc('melt_0')])\n",
    "        print('='*20)\n",
    "\n",
    "x=test1.drop('delta_albedo',1)\n",
    "y=test2.drop('delta_albedo',1)\n",
    "for i in range(y.shape[0]):\n",
    "    \n",
    "    if test1.iloc[i, df.columns.get_loc('melt_0')] != (test2.iloc[i, df.columns.get_loc('melt_0')]):\n",
    "        #print(i)\n",
    "        print(test1.iloc[i, df.columns.get_loc('melt_0')])\n",
    "        print(test2.iloc[i, df.columns.get_loc('melt_0')])\n",
    "        print('='*20)"
   ]
  },
  {
   "cell_type": "markdown",
   "metadata": {},
   "source": [
    "# ================ End Here ============================"
   ]
  }
 ],
 "metadata": {
  "kernelspec": {
   "display_name": "Python 3",
   "language": "python",
   "name": "python3"
  },
  "language_info": {
   "codemirror_mode": {
    "name": "ipython",
    "version": 3
   },
   "file_extension": ".py",
   "mimetype": "text/x-python",
   "name": "python",
   "nbconvert_exporter": "python",
   "pygments_lexer": "ipython3",
   "version": "3.7.7"
  },
  "toc": {
   "base_numbering": 1,
   "nav_menu": {},
   "number_sections": true,
   "sideBar": true,
   "skip_h1_title": false,
   "title_cell": "Table of Contents",
   "title_sidebar": "Contents",
   "toc_cell": false,
   "toc_position": {},
   "toc_section_display": true,
   "toc_window_display": false
  }
 },
 "nbformat": 4,
 "nbformat_minor": 4
}
